{
 "cells": [
  {
   "cell_type": "markdown",
   "id": "03ad6ed6",
   "metadata": {},
   "source": [
    "# DataPreprocessing"
   ]
  },
  {
   "cell_type": "code",
   "execution_count": 1,
   "id": "e52ed8c3",
   "metadata": {},
   "outputs": [],
   "source": [
    "import warnings\n",
    "warnings.filterwarnings('ignore')"
   ]
  },
  {
   "cell_type": "code",
   "execution_count": 2,
   "id": "a4f11544",
   "metadata": {},
   "outputs": [],
   "source": [
    "import pandas as pd"
   ]
  },
  {
   "cell_type": "code",
   "execution_count": 3,
   "id": "19f3bd44",
   "metadata": {},
   "outputs": [],
   "source": [
    "data = pd.read_json('intents.json')"
   ]
  },
  {
   "cell_type": "code",
   "execution_count": 4,
   "id": "0e349208",
   "metadata": {},
   "outputs": [
    {
     "data": {
      "text/html": [
       "<div>\n",
       "<style scoped>\n",
       "    .dataframe tbody tr th:only-of-type {\n",
       "        vertical-align: middle;\n",
       "    }\n",
       "\n",
       "    .dataframe tbody tr th {\n",
       "        vertical-align: top;\n",
       "    }\n",
       "\n",
       "    .dataframe thead th {\n",
       "        text-align: right;\n",
       "    }\n",
       "</style>\n",
       "<table border=\"1\" class=\"dataframe\">\n",
       "  <thead>\n",
       "    <tr style=\"text-align: right;\">\n",
       "      <th></th>\n",
       "      <th>intents</th>\n",
       "    </tr>\n",
       "  </thead>\n",
       "  <tbody>\n",
       "    <tr>\n",
       "      <th>0</th>\n",
       "      <td>{'tag': 'greeting', 'patterns': ['Hi there', '...</td>\n",
       "    </tr>\n",
       "    <tr>\n",
       "      <th>1</th>\n",
       "      <td>{'tag': 'crop_info', 'patterns': ['Tell me abo...</td>\n",
       "    </tr>\n",
       "    <tr>\n",
       "      <th>2</th>\n",
       "      <td>{'tag': 'irrigation_systems', 'patterns': ['Wh...</td>\n",
       "    </tr>\n",
       "    <tr>\n",
       "      <th>3</th>\n",
       "      <td>{'tag': 'maintenance', 'patterns': ['What are ...</td>\n",
       "    </tr>\n",
       "    <tr>\n",
       "      <th>4</th>\n",
       "      <td>{'tag': 'prevention', 'patterns': ['What are e...</td>\n",
       "    </tr>\n",
       "  </tbody>\n",
       "</table>\n",
       "</div>"
      ],
      "text/plain": [
       "                                             intents\n",
       "0  {'tag': 'greeting', 'patterns': ['Hi there', '...\n",
       "1  {'tag': 'crop_info', 'patterns': ['Tell me abo...\n",
       "2  {'tag': 'irrigation_systems', 'patterns': ['Wh...\n",
       "3  {'tag': 'maintenance', 'patterns': ['What are ...\n",
       "4  {'tag': 'prevention', 'patterns': ['What are e..."
      ]
     },
     "execution_count": 4,
     "metadata": {},
     "output_type": "execute_result"
    }
   ],
   "source": [
    "data.head()"
   ]
  },
  {
   "cell_type": "code",
   "execution_count": 5,
   "id": "0efe9077",
   "metadata": {},
   "outputs": [
    {
     "data": {
      "text/plain": [
       "(56, 1)"
      ]
     },
     "execution_count": 5,
     "metadata": {},
     "output_type": "execute_result"
    }
   ],
   "source": [
    "data.shape"
   ]
  },
  {
   "cell_type": "code",
   "execution_count": 6,
   "id": "4acff3ed",
   "metadata": {},
   "outputs": [
    {
     "name": "stdout",
     "output_type": "stream",
     "text": [
      "<class 'pandas.core.frame.DataFrame'>\n",
      "RangeIndex: 56 entries, 0 to 55\n",
      "Data columns (total 1 columns):\n",
      " #   Column   Non-Null Count  Dtype \n",
      "---  ------   --------------  ----- \n",
      " 0   intents  56 non-null     object\n",
      "dtypes: object(1)\n",
      "memory usage: 576.0+ bytes\n"
     ]
    }
   ],
   "source": [
    "data.info()"
   ]
  },
  {
   "cell_type": "code",
   "execution_count": 7,
   "id": "cdf5bd45",
   "metadata": {},
   "outputs": [],
   "source": [
    "df = data.dropna()"
   ]
  },
  {
   "cell_type": "code",
   "execution_count": 8,
   "id": "c486645a",
   "metadata": {},
   "outputs": [
    {
     "data": {
      "text/plain": [
       "intents    0\n",
       "dtype: int64"
      ]
     },
     "execution_count": 8,
     "metadata": {},
     "output_type": "execute_result"
    }
   ],
   "source": [
    "df.isnull().sum()"
   ]
  },
  {
   "cell_type": "code",
   "execution_count": 9,
   "id": "76a208a9",
   "metadata": {},
   "outputs": [
    {
     "data": {
      "text/plain": [
       "<bound method DataFrame.info of                                               intents\n",
       "0   {'tag': 'greeting', 'patterns': ['Hi there', '...\n",
       "1   {'tag': 'crop_info', 'patterns': ['Tell me abo...\n",
       "2   {'tag': 'irrigation_systems', 'patterns': ['Wh...\n",
       "3   {'tag': 'maintenance', 'patterns': ['What are ...\n",
       "4   {'tag': 'prevention', 'patterns': ['What are e...\n",
       "5   {'tag': 'soil_management', 'patterns': ['How c...\n",
       "6   {'tag': 'crop_rotation', 'patterns': ['What ar...\n",
       "7   {'tag': 'organic_farming', 'patterns': ['What ...\n",
       "8   {'tag': 'weather_forecast', 'patterns': ['How ...\n",
       "9   {'tag': 'crop_harvesting', 'patterns': ['What ...\n",
       "10  {'tag': 'crop_diseases', 'patterns': ['What ar...\n",
       "11  {'tag': 'fertilizers', 'patterns': ['What are ...\n",
       "12  {'tag': 'water_management', 'patterns': ['What...\n",
       "13  {'tag': 'greenhouse_farming', 'patterns': ['Wh...\n",
       "14  {'tag': 'crop_selection', 'patterns': ['How do...\n",
       "15  {'tag': 'market_trends', 'patterns': ['What ar...\n",
       "16  {'tag': 'government_schemes', 'patterns': ['Wh...\n",
       "17  {'tag': 'drought_management', 'patterns': ['Ho...\n",
       "18  {'tag': 'crop_storage', 'patterns': ['What are...\n",
       "19  {'tag': 'harvest_marketing', 'patterns': ['How...\n",
       "20  {'tag': 'livestock_management', 'patterns': ['...\n",
       "21  {'tag': 'agrochemicals', 'patterns': ['How do ...\n",
       "22  {'tag': 'crop_insurance', 'patterns': ['What a...\n",
       "23  {'tag': 'composting', 'patterns': ['How do I c...\n",
       "24  {'tag': 'green_manure', 'patterns': ['What are...\n",
       "25  {'tag': 'agricultural_technology', 'patterns':...\n",
       "26  {'tag': 'agro_ecotourism', 'patterns': ['What ...\n",
       "27  {'tag': 'pest_management', 'patterns': ['What ...\n",
       "28  {'tag': 'organic_certification', 'patterns': [...\n",
       "29  {'tag': 'drip_irrigation', 'patterns': ['How d...\n",
       "30  {'tag': 'agrochemical_residue', 'patterns': ['...\n",
       "31  {'tag': 'climate_resilient_crops', 'patterns':...\n",
       "32  {'tag': 'precision_farming', 'patterns': ['Wha...\n",
       "33  {'tag': 'crop_monitoring', 'patterns': ['What ...\n",
       "34  {'tag': 'aquaponics', 'patterns': ['How do I s...\n",
       "35  {'tag': 'livestock_feed', 'patterns': ['What i...\n",
       "36  {'tag': 'soil_testing', 'patterns': ['Why is s...\n",
       "37  {'tag': 'biodynamic_farming', 'patterns': ['Wh...\n",
       "38  {'tag': 'agricultural_exports', 'patterns': ['...\n",
       "39  {'tag': 'biodiversity_in_agriculture', 'patter...\n",
       "40  {'tag': 'agricultural_waste_management', 'patt...\n",
       "41  {'tag': 'organic_fertilizers', 'patterns': ['W...\n",
       "42  {'tag': 'agricultural_policy', 'patterns': ['W...\n",
       "43  {'tag': 'agricultural_innovation', 'patterns':...\n",
       "44  {'tag': 'agritourism', 'patterns': ['What are ...\n",
       "45  {'tag': 'soil_erosion_control', 'patterns': ['...\n",
       "46  {'tag': 'crop_pollination', 'patterns': ['Why ...\n",
       "47  {'tag': 'crop_rotational_benefits', 'patterns'...\n",
       "48  {'tag': 'sustainable_fertilization_practices',...\n",
       "49  {'tag': 'climate_resilient_crops', 'patterns':...\n",
       "50  {'tag': 'precision_farming', 'patterns': ['How...\n",
       "51  {'tag': 'crop_monitoring', 'patterns': ['How d...\n",
       "52  {'tag': 'aquaponics', 'patterns': ['How do far...\n",
       "53  {'tag': 'livestock_feed', 'patterns': ['How do...\n",
       "54  {'tag': 'soil_testing', 'patterns': ['Why is s...\n",
       "55  {'tag': 'biodynamic_farming', 'patterns': ['Wh...>"
      ]
     },
     "execution_count": 9,
     "metadata": {},
     "output_type": "execute_result"
    }
   ],
   "source": [
    "df.info\n"
   ]
  },
  {
   "cell_type": "code",
   "execution_count": 10,
   "id": "f7dcf3e2",
   "metadata": {},
   "outputs": [
    {
     "data": {
      "text/plain": [
       "Index(['intents'], dtype='object')"
      ]
     },
     "execution_count": 10,
     "metadata": {},
     "output_type": "execute_result"
    }
   ],
   "source": [
    "df.columns"
   ]
  },
  {
   "cell_type": "code",
   "execution_count": 11,
   "id": "bfed1db2",
   "metadata": {},
   "outputs": [
    {
     "data": {
      "text/plain": [
       "56"
      ]
     },
     "execution_count": 11,
     "metadata": {},
     "output_type": "execute_result"
    }
   ],
   "source": [
    "df.size"
   ]
  },
  {
   "cell_type": "code",
   "execution_count": 12,
   "id": "f66345bc",
   "metadata": {},
   "outputs": [
    {
     "data": {
      "text/html": [
       "<div>\n",
       "<style scoped>\n",
       "    .dataframe tbody tr th:only-of-type {\n",
       "        vertical-align: middle;\n",
       "    }\n",
       "\n",
       "    .dataframe tbody tr th {\n",
       "        vertical-align: top;\n",
       "    }\n",
       "\n",
       "    .dataframe thead th {\n",
       "        text-align: right;\n",
       "    }\n",
       "</style>\n",
       "<table border=\"1\" class=\"dataframe\">\n",
       "  <thead>\n",
       "    <tr style=\"text-align: right;\">\n",
       "      <th></th>\n",
       "      <th>intents</th>\n",
       "    </tr>\n",
       "  </thead>\n",
       "  <tbody>\n",
       "    <tr>\n",
       "      <th>count</th>\n",
       "      <td>56</td>\n",
       "    </tr>\n",
       "    <tr>\n",
       "      <th>unique</th>\n",
       "      <td>56</td>\n",
       "    </tr>\n",
       "    <tr>\n",
       "      <th>top</th>\n",
       "      <td>{'tag': 'greeting', 'patterns': ['Hi there', '...</td>\n",
       "    </tr>\n",
       "    <tr>\n",
       "      <th>freq</th>\n",
       "      <td>1</td>\n",
       "    </tr>\n",
       "  </tbody>\n",
       "</table>\n",
       "</div>"
      ],
      "text/plain": [
       "                                                  intents\n",
       "count                                                  56\n",
       "unique                                                 56\n",
       "top     {'tag': 'greeting', 'patterns': ['Hi there', '...\n",
       "freq                                                    1"
      ]
     },
     "execution_count": 12,
     "metadata": {},
     "output_type": "execute_result"
    }
   ],
   "source": [
    "df.describe()"
   ]
  },
  {
   "cell_type": "code",
   "execution_count": 13,
   "id": "506c330d",
   "metadata": {},
   "outputs": [
    {
     "data": {
      "text/html": [
       "<div>\n",
       "<style scoped>\n",
       "    .dataframe tbody tr th:only-of-type {\n",
       "        vertical-align: middle;\n",
       "    }\n",
       "\n",
       "    .dataframe tbody tr th {\n",
       "        vertical-align: top;\n",
       "    }\n",
       "\n",
       "    .dataframe thead th {\n",
       "        text-align: right;\n",
       "    }\n",
       "</style>\n",
       "<table border=\"1\" class=\"dataframe\">\n",
       "  <thead>\n",
       "    <tr style=\"text-align: right;\">\n",
       "      <th></th>\n",
       "      <th>intents</th>\n",
       "    </tr>\n",
       "  </thead>\n",
       "  <tbody>\n",
       "    <tr>\n",
       "      <th>0</th>\n",
       "      <td>{'tag': 'greeting', 'patterns': ['Hi there', '...</td>\n",
       "    </tr>\n",
       "    <tr>\n",
       "      <th>1</th>\n",
       "      <td>{'tag': 'crop_info', 'patterns': ['Tell me abo...</td>\n",
       "    </tr>\n",
       "    <tr>\n",
       "      <th>2</th>\n",
       "      <td>{'tag': 'irrigation_systems', 'patterns': ['Wh...</td>\n",
       "    </tr>\n",
       "    <tr>\n",
       "      <th>3</th>\n",
       "      <td>{'tag': 'maintenance', 'patterns': ['What are ...</td>\n",
       "    </tr>\n",
       "    <tr>\n",
       "      <th>4</th>\n",
       "      <td>{'tag': 'prevention', 'patterns': ['What are e...</td>\n",
       "    </tr>\n",
       "  </tbody>\n",
       "</table>\n",
       "</div>"
      ],
      "text/plain": [
       "                                             intents\n",
       "0  {'tag': 'greeting', 'patterns': ['Hi there', '...\n",
       "1  {'tag': 'crop_info', 'patterns': ['Tell me abo...\n",
       "2  {'tag': 'irrigation_systems', 'patterns': ['Wh...\n",
       "3  {'tag': 'maintenance', 'patterns': ['What are ...\n",
       "4  {'tag': 'prevention', 'patterns': ['What are e..."
      ]
     },
     "execution_count": 13,
     "metadata": {},
     "output_type": "execute_result"
    }
   ],
   "source": [
    "df.head()"
   ]
  },
  {
   "cell_type": "code",
   "execution_count": 14,
   "id": "16afd0e0",
   "metadata": {},
   "outputs": [
    {
     "data": {
      "text/html": [
       "<div>\n",
       "<style scoped>\n",
       "    .dataframe tbody tr th:only-of-type {\n",
       "        vertical-align: middle;\n",
       "    }\n",
       "\n",
       "    .dataframe tbody tr th {\n",
       "        vertical-align: top;\n",
       "    }\n",
       "\n",
       "    .dataframe thead th {\n",
       "        text-align: right;\n",
       "    }\n",
       "</style>\n",
       "<table border=\"1\" class=\"dataframe\">\n",
       "  <thead>\n",
       "    <tr style=\"text-align: right;\">\n",
       "      <th></th>\n",
       "      <th>intents</th>\n",
       "    </tr>\n",
       "  </thead>\n",
       "  <tbody>\n",
       "    <tr>\n",
       "      <th>0</th>\n",
       "      <td>{'tag': 'greeting', 'patterns': ['Hi there', '...</td>\n",
       "    </tr>\n",
       "    <tr>\n",
       "      <th>1</th>\n",
       "      <td>{'tag': 'crop_info', 'patterns': ['Tell me abo...</td>\n",
       "    </tr>\n",
       "    <tr>\n",
       "      <th>2</th>\n",
       "      <td>{'tag': 'irrigation_systems', 'patterns': ['Wh...</td>\n",
       "    </tr>\n",
       "    <tr>\n",
       "      <th>3</th>\n",
       "      <td>{'tag': 'maintenance', 'patterns': ['What are ...</td>\n",
       "    </tr>\n",
       "    <tr>\n",
       "      <th>4</th>\n",
       "      <td>{'tag': 'prevention', 'patterns': ['What are e...</td>\n",
       "    </tr>\n",
       "  </tbody>\n",
       "</table>\n",
       "</div>"
      ],
      "text/plain": [
       "                                             intents\n",
       "0  {'tag': 'greeting', 'patterns': ['Hi there', '...\n",
       "1  {'tag': 'crop_info', 'patterns': ['Tell me abo...\n",
       "2  {'tag': 'irrigation_systems', 'patterns': ['Wh...\n",
       "3  {'tag': 'maintenance', 'patterns': ['What are ...\n",
       "4  {'tag': 'prevention', 'patterns': ['What are e..."
      ]
     },
     "execution_count": 14,
     "metadata": {},
     "output_type": "execute_result"
    }
   ],
   "source": [
    "df.head()"
   ]
  },
  {
   "cell_type": "code",
   "execution_count": 15,
   "id": "c1253d09",
   "metadata": {},
   "outputs": [
    {
     "data": {
      "application/vnd.jupyter.widget-view+json": {
       "model_id": "d3e0a8f9b36b4f4a9e982d4ee52718ae",
       "version_major": 2,
       "version_minor": 0
      },
      "text/plain": [
       "Summarize dataset:   0%|          | 0/5 [00:00<?, ?it/s]"
      ]
     },
     "metadata": {},
     "output_type": "display_data"
    },
    {
     "data": {
      "application/vnd.jupyter.widget-view+json": {
       "model_id": "86c91e2351e249c0acaa5f5144d7c00e",
       "version_major": 2,
       "version_minor": 0
      },
      "text/plain": [
       "Generate report structure:   0%|          | 0/1 [00:00<?, ?it/s]"
      ]
     },
     "metadata": {},
     "output_type": "display_data"
    },
    {
     "data": {
      "application/vnd.jupyter.widget-view+json": {
       "model_id": "963c50c74bbe4966b9c7d50f171afb02",
       "version_major": 2,
       "version_minor": 0
      },
      "text/plain": [
       "Render HTML:   0%|          | 0/1 [00:00<?, ?it/s]"
      ]
     },
     "metadata": {},
     "output_type": "display_data"
    },
    {
     "data": {
      "application/vnd.jupyter.widget-view+json": {
       "model_id": "7dbfccb88af345eda9427efbbbdc94aa",
       "version_major": 2,
       "version_minor": 0
      },
      "text/plain": [
       "Export report to file:   0%|          | 0/1 [00:00<?, ?it/s]"
      ]
     },
     "metadata": {},
     "output_type": "display_data"
    }
   ],
   "source": [
    "import ydata_profiling as yp\n",
    "import pandas_profiling\n",
    "from pandas_profiling import ProfileReport\n",
    "from ydata_profiling.model import describe\n",
    "prof = ProfileReport(df)\n",
    "prof.to_file(output_file='Report.html')"
   ]
  },
  {
   "cell_type": "code",
   "execution_count": null,
   "id": "090e6524",
   "metadata": {},
   "outputs": [],
   "source": []
  },
  {
   "cell_type": "code",
   "execution_count": null,
   "id": "1f1f3fde",
   "metadata": {},
   "outputs": [],
   "source": []
  }
 ],
 "metadata": {
  "kernelspec": {
   "display_name": "Python 3 (ipykernel)",
   "language": "python",
   "name": "python3"
  },
  "language_info": {
   "codemirror_mode": {
    "name": "ipython",
    "version": 3
   },
   "file_extension": ".py",
   "mimetype": "text/x-python",
   "name": "python",
   "nbconvert_exporter": "python",
   "pygments_lexer": "ipython3",
   "version": "3.9.18"
  }
 },
 "nbformat": 4,
 "nbformat_minor": 5
}
